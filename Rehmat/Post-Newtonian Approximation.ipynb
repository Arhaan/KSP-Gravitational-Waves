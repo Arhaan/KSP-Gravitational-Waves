{
 "cells": [
  {
   "cell_type": "markdown",
   "metadata": {},
   "source": [
    "## KSP Assignment 2"
   ]
  },
  {
   "cell_type": "code",
   "execution_count": 2,
   "metadata": {},
   "outputs": [],
   "source": [
    "import numpy as np\n",
    "import scipy as sp\n",
    "import pandas as pd\n",
    "from scipy.misc import derivative\n",
    "from scipy.integrate import solve_ivp\n",
    "from scipy.integrate import odeint\n",
    "from scipy.optimize import fsolve\n",
    "import matplotlib.pyplot as plt\n",
    "from matplotlib import rcParams\n",
    "plt.rcParams['text.usetex'] = True\n",
    "rcParams.update({'figure.autolayout': True})"
   ]
  },
  {
   "cell_type": "markdown",
   "metadata": {},
   "source": [
    "### Constants, and Newtonian approximation for frequency"
   ]
  },
  {
   "cell_type": "code",
   "execution_count": 24,
   "metadata": {},
   "outputs": [],
   "source": [
    "# Masses:\n",
    "M0 = 1.99*10**30 # Solar mass\n",
    "m1 = 35*M0\n",
    "m2 = 35*M0\n",
    "Mc = np.power(m1*m2, 3/5)/np.power(m1+m2, 1/5) # Chirp mass\n",
    "redM = m1*m2/(m1+m2) # Reduced mass\n",
    "totM = m1+m2 # Total mass\n",
    "\n",
    "# Universal constants\n",
    "pi = np.pi\n",
    "G = 6.67*10**(-11)\n",
    "c = 299792458\n",
    "\n",
    "# Distance of source from detector\n",
    "D = 10^22 # Actual is ~410*30.9*10^18 m (410 Mpc)\n",
    "\n",
    "# Initial values / scalings\n",
    "h0=1\n",
    "phi0 = 0\n",
    "tc0 = -4/2944 # Because at t=0 we get singularities"
   ]
  },
  {
   "cell_type": "code",
   "execution_count": 25,
   "metadata": {},
   "outputs": [],
   "source": [
    "# Newtonian frequency approximation\n",
    "def frequencyN(t): # Valid for t<0\n",
    "    return np.power( abs(np.power(8*pi,8/3)/5*np.power(G*Mc/c**3, 5/3)*(-t)) , -3/8)"
   ]
  },
  {
   "cell_type": "code",
   "execution_count": 26,
   "metadata": {},
   "outputs": [],
   "source": [
    "# Other useful constants\n",
    "nuM = redM/totM\n",
    "\n",
    "def dlc(f0): # A DimensionLess Constant used in many equations\n",
    "    return pi*G*totM*f0/c**3\n",
    "\n",
    "# Coefficients of various order PN terms\n",
    "def tau0(f0):\n",
    "    return 5 / (256 * pi * f0 * nuM * np.power(dlc(f0), 5/3))\n",
    "def tau1(f0):\n",
    "    return 5 * (743/336 + 11*nuM/4)/(192 * pi * f0 * nuM * dlc(f0))\n",
    "def tau1_5(f0):\n",
    "    return 1 / (8 * f0 * nuM * np.power(dlc(f0), 2/3))\n",
    "def tau2(f0):\n",
    "    return 5 * (3058673/1016064 + 5429*nuM/1008 + 617*nuM**2/144) / (128 * pi * f0 * nuM * np.power(dlc(f0), 1/3))"
   ]
  },
  {
   "cell_type": "markdown",
   "metadata": {},
   "source": [
    "### Post-Newtonian Frequency-Time relation and Derivative"
   ]
  },
  {
   "cell_type": "code",
   "execution_count": 27,
   "metadata": {},
   "outputs": [],
   "source": [
    "def freqTimeRelation(f,t,t0,f0):\n",
    "    \n",
    "    f_rel = abs(f)/f0\n",
    "    return (tau0(f0)*(1-np.power(f_rel, -8/3)) \n",
    "        + tau1(f0)*(1-np.power(f_rel, -2)) \n",
    "        - tau1_5(f0)*(1-np.power(f_rel, -5/3))\n",
    "        + tau2(f0)*(1-np.power(f_rel, -4/3))\n",
    "        + t0 - t )"
   ]
  },
  {
   "cell_type": "code",
   "execution_count": 28,
   "metadata": {},
   "outputs": [],
   "source": [
    "def derivativeFrequencyPN(t, f,t0,f0):\n",
    "    f_rel = abs(f)/f0\n",
    "    return 3*f0/8/(tau0(f0))**2*np.power(f_rel, 11/3)*(tau0(f0)\n",
    "                                                 - 3*tau1(f0)/4*np.power(f_rel, 2/3)\n",
    "                                                 + 5*tau1_5(f0)/8*f_rel \n",
    "                                                 - (tau2(f0) - 9*(tau1(f0))**2/8/tau0(f0))*np.power(f_rel,4/3)/2)"
   ]
  },
  {
   "cell_type": "code",
   "execution_count": 29,
   "metadata": {},
   "outputs": [],
   "source": [
    "def derivativeLogFrequencyPN(t, f,t0,f0):\n",
    "    f_rel = abs(f)/f0\n",
    "    return 3/8/(tau0(f0))**2*np.power(f_rel, 8/3)*(tau0(f0)\n",
    "                                                 - 3*tau1(f0)/4*np.power(f_rel, 2/3)\n",
    "                                                 + 5*tau1_5(f0)/8*f_rel \n",
    "                                                 - (tau2(f0) - 9*(tau1(f0))**2/8/tau0(f0))*np.power(f_rel,4/3)/2)"
   ]
  },
  {
   "cell_type": "markdown",
   "metadata": {},
   "source": [
    "### PN Freq : Solving DE"
   ]
  },
  {
   "cell_type": "code",
   "execution_count": 30,
   "metadata": {},
   "outputs": [],
   "source": [
    "def frequencyPN_DifferentialSolver(timeSeries, t0, f0):\n",
    "    return solve_ivp(derivativeFrequencyPN,\n",
    "                    (timeSeries[0],timeSeries[-1]),\n",
    "                    y0 = [frequencyN(timeSeries[0])],\n",
    "                    t_eval = timeSeries,\n",
    "                    args = (t0,f0))[\"y\"][0]"
   ]
  },
  {
   "cell_type": "markdown",
   "metadata": {},
   "source": [
    "### PN Freq : Solving Implicit Eq"
   ]
  },
  {
   "cell_type": "code",
   "execution_count": 31,
   "metadata": {},
   "outputs": [],
   "source": [
    "def frequencyPN_Implicit(t, t0, f0):\n",
    "    return fsolve(freqTimeRelation, frequencyN(t), args = (t,t0,f0))"
   ]
  },
  {
   "cell_type": "markdown",
   "metadata": {},
   "source": [
    "## Testing"
   ]
  },
  {
   "cell_type": "code",
   "execution_count": 32,
   "metadata": {},
   "outputs": [
    {
     "name": "stdout",
     "output_type": "stream",
     "text": [
      "Number of points resolved: 374305 \n",
      "Length of Time Series: 376832 \n",
      "   message: 'Required step size is less than spacing between numbers.'\n",
      "     nfev: 644\n",
      "     njev: 0\n",
      "      nlu: 0\n",
      "      sol: None\n",
      "   status: -1\n",
      "  success: False\n",
      "        t: array([-1.        , -0.99999764, -0.99999528, ..., -0.11597534,\n",
      "       -0.11597298, -0.11597062])\n",
      " t_events: None\n",
      "        y: array([[ 17.84995447,  17.84997113,  17.84998779, ..., 595.73978381,\n",
      "        667.36242231, 815.47316579]])\n",
      " y_events: None\n"
     ]
    },
    {
     "data": {
      "image/png": "[encoded data removed]",
      "text/plain": [
       "<Figure size 432x288 with 1 Axes>"
      ]
     },
     "metadata": {
      "needs_background": "light"
     },
     "output_type": "display_data"
    }
   ],
   "source": [
    "# timeSeriesTest = np.arange(-0.2,-0.001,32/(2944))\n",
    "t0 = -1\n",
    "f0 = 10\n",
    "timeSeriesTest = np.linspace(-1,-0.11,128*2944, endpoint=False)\n",
    "sol = solve_ivp(derivativeFrequencyPN,\n",
    "                (timeSeriesTest[0],timeSeriesTest[-1]),\n",
    "                y0 = [frequencyN(timeSeriesTest[0])],\n",
    "                t_eval = timeSeriesTest,\n",
    "                args = (t0,f0))\n",
    "try:\n",
    "    plt.plot(timeSeriesTest, sol[\"y\"][0])\n",
    "except:\n",
    "    pass\n",
    "print(\"Number of points resolved:\", len(sol[\"y\"][0]),\"\\nLength of Time Series:\", len(timeSeriesTest),\"\\n\", sol)"
   ]
  },
  {
   "cell_type": "code",
   "execution_count": 33,
   "metadata": {},
   "outputs": [
    {
     "data": {
      "text/plain": [
       "[<matplotlib.lines.Line2D at 0x7fefb1a75880>]"
      ]
     },
     "execution_count": 33,
     "metadata": {},
     "output_type": "execute_result"
    },
    {
     "data": {
      "image/png": "[encoded data removed]",
      "text/plain": [
       "<Figure size 432x288 with 1 Axes>"
      ]
     },
     "metadata": {
      "needs_background": "light"
     },
     "output_type": "display_data"
    }
   ],
   "source": [
    "timeSeriesTest = np.linspace(-1,0,4*2944, endpoint=False)\n",
    "t0 = -1\n",
    "f0 = 10\n",
    "dfSeriesTest = []\n",
    "for i in range(len(timeSeriesTest)):\n",
    "    t = timeSeriesTest[i]\n",
    "    dfSeriesTest.append(derivativeFrequencyPN(t, frequencyN(t),t0,f0))\n",
    "plt.plot(timeSeriesTest, dfSeriesTest)"
   ]
  },
  {
   "cell_type": "code",
   "execution_count": 42,
   "metadata": {},
   "outputs": [
    {
     "name": "stdout",
     "output_type": "stream",
     "text": [
      "[-1.000e+00 -9.999e-01 -9.998e-01 ... -3.000e-04 -2.000e-04 -1.000e-04]\n"
     ]
    },
    {
     "data": {
      "text/plain": [
       "[<matplotlib.lines.Line2D at 0x7fefb1c4aee0>]"
      ]
     },
     "execution_count": 42,
     "metadata": {},
     "output_type": "execute_result"
    },
    {
     "data": {
      "image/png": "[encoded data removed]",
      "text/plain": [
       "<Figure size 432x288 with 1 Axes>"
      ]
     },
     "metadata": {
      "needs_background": "light"
     },
     "output_type": "display_data"
    }
   ],
   "source": [
    "timeSeriesTest = np.linspace(-1,0,10000, endpoint=False)\n",
    "print(timeSeriesTest)\n",
    "\n",
    "t0 = -1\n",
    "f0 = 19\n",
    "\n",
    "freqSeries = []\n",
    "# freqSeries = [frequencyPN_Implicit(t) for t in timeSeriesTest]\n",
    "for t in timeSeriesTest:\n",
    "    sol = fsolve(freqTimeRelation, 1, args = (t,t0,f0), full_output=True)\n",
    "    # print(sol)\n",
    "    freqSeries.append(sol[0])\n",
    "plt.plot(timeSeriesTest, freqSeries)"
   ]
  },
  {
   "cell_type": "markdown",
   "metadata": {},
   "source": [
    "## A different approach - Obtaining time from frequency"
   ]
  },
  {
   "cell_type": "code",
   "execution_count": 35,
   "metadata": {},
   "outputs": [],
   "source": [
    "def timeAtFreqPN(f, f0, t0):\n",
    "    \n",
    "    f_rel = abs(f)/f0\n",
    "    return (tau0(f0)*(1-np.power(f_rel, -8/3)) \n",
    "        + tau1(f0)*(1-np.power(f_rel, -2)) \n",
    "        - tau1_5(f0)*(1-np.power(f_rel, -5/3))\n",
    "        + tau2(f0)*(1-np.power(f_rel, -4/3))\n",
    "        + t0)"
   ]
  },
  {
   "cell_type": "code",
   "execution_count": 36,
   "metadata": {},
   "outputs": [],
   "source": [
    "def timeAtFreqN(f, f0, t0):\n",
    "    return t0 + 5/np.power(8*pi,8/3)*np.power(c**3/G/Mc, 5/3)*(np.power(f0, -8/3) - np.power(f, -8/3))"
   ]
  },
  {
   "cell_type": "code",
   "execution_count": 37,
   "metadata": {},
   "outputs": [],
   "source": [
    "def timeAtFreqN2(f, f0, t0):\n",
    "    f_rel = abs(f)/f0\n",
    "    return (tau0(f0)*(1-np.power(f_rel, -8/3)) + t0)"
   ]
  },
  {
   "cell_type": "code",
   "execution_count": 56,
   "metadata": {},
   "outputs": [
    {
     "name": "stdout",
     "output_type": "stream",
     "text": [
      "calculated f_ISCO :  144.29271494384594\n",
      "Guess used :  145\n"
     ]
    }
   ],
   "source": [
    "# f_ISCO = sqrt(G*totM/a_ISCO^3) gives the following :\n",
    "print(\"calculated f_ISCO : \", c**3/(G*Mc*np.sqrt(6**3)*pi))\n",
    "\n",
    "f_ISCO = 145 # This is just a guess\n",
    "print(\"Guess used : \", f_ISCO)"
   ]
  },
  {
   "cell_type": "code",
   "execution_count": 48,
   "metadata": {},
   "outputs": [
    {
     "data": {
      "image/png": "[encoded data removed]",
      "text/plain": [
       "<Figure size 864x576 with 1 Axes>"
      ]
     },
     "metadata": {},
     "output_type": "display_data"
    }
   ],
   "source": [
    "f0 = 10\n",
    "t0 = 0\n",
    "\n",
    "freqSeriesTest = np.linspace(f0,f_ISCO,10000, endpoint=False)\n",
    "logFreqSeriesTest = np.log(freqSeriesTest)\n",
    "timeSeries1 = [timeAtFreqN(f, f0, t0) for f in freqSeriesTest]\n",
    "timeSeries2 = [timeAtFreqPN(f, f0, t0) for f in freqSeriesTest]\n",
    "# timeSeries3 = [timeAtFreqN2(f, f0, t0) for f in freqSeriesTest]\n",
    "plt.figure(figsize=(12,8), facecolor=(1,1,1))\n",
    "plt.plot(timeSeries1, freqSeriesTest, label = \"Newtonian\")\n",
    "plt.plot(timeSeries2, freqSeriesTest, label = \"Post-Newtonian\")\n",
    "# plt.plot(timeSeries3, freqSeriesTest, label = \"Newtonian - Implicit\")\n",
    "plt.legend()\n",
    "\n",
    "plt.ylabel(\"Frequency (in Hz)\")\n",
    "plt.xlabel(\"Time (in sec)\")\n",
    "\n",
    "plt.savefig('Frequency_time_comparison.png', dpi = 300)\n",
    "plt.show()"
   ]
  },
  {
   "cell_type": "code",
   "execution_count": 50,
   "metadata": {},
   "outputs": [
    {
     "data": {
      "image/png": "[encoded data removed]",
      "text/plain": [
       "<Figure size 864x576 with 1 Axes>"
      ]
     },
     "metadata": {},
     "output_type": "display_data"
    }
   ],
   "source": [
    "freqStartSeries = np.linspace(5,100,100,endpoint=False)\n",
    "\n",
    "timeISCO_PN = np.array([(timeAtFreqPN(f_ISCO,x,0)) for x in freqStartSeries])\n",
    "timeISCO_N = np.array([(timeAtFreqN(f_ISCO,x,0)) for x in freqStartSeries])\n",
    "timeDiff = timeISCO_PN - timeISCO_N\n",
    "\n",
    "plt.figure(figsize=(12,8), facecolor=(1,1,1))\n",
    "\n",
    "plt.plot(freqStartSeries, timeDiff, label=\"$\\Delta t_{ISCO}$\") \n",
    "\n",
    "plt.xlabel(\"Starting Frequency f* (in Hz)\")\n",
    "plt.ylabel(\"$\\Delta t_{ISCO}$ (in sec)\")\n",
    "plt.legend()\n",
    "plt.xticks(ticks = np.arange(0,110, 10))\n",
    "# plt.yticks(ticks = np.arange(-0.1,0.7,0.1))\n",
    "\n",
    "plt.grid(True)\n",
    "plt.savefig('Delta_t_ISCO_plot.png', dpi = 300)\n",
    "plt.show()\n"
   ]
  },
  {
   "cell_type": "code",
   "execution_count": 51,
   "metadata": {},
   "outputs": [
    {
     "data": {
      "image/png": "[encoded data removed]",
      "text/plain": [
       "<Figure size 864x576 with 1 Axes>"
      ]
     },
     "metadata": {},
     "output_type": "display_data"
    }
   ],
   "source": [
    "plt.figure(figsize=(12,8), facecolor=(1,1,1))\n",
    "\n",
    "plt.plot(freqStartSeries, timeISCO_PN, label=\"$t^{PN}_{ISCO}$\") \n",
    "plt.plot(freqStartSeries, timeISCO_N, label=\"$t^N_{ISCO}$\") \n",
    "\n",
    "\n",
    "plt.xlabel(\"Starting Frequency f* (in Hz)\")\n",
    "plt.ylabel(\"$t_{ISCO}$ (in sec)\")\n",
    "plt.legend()\n",
    "plt.xticks(ticks = np.arange(0,110, 10))\n",
    "# plt.yticks(ticks = np.arange(-5,50,5))\n",
    "\n",
    "plt.grid(True)\n",
    "plt.savefig('t_ISCO_plots.png', dpi = 300)\n",
    "plt.show()"
   ]
  },
  {
   "cell_type": "code",
   "execution_count": null,
   "metadata": {},
   "outputs": [],
   "source": []
  }
 ],
 "metadata": {
  "kernelspec": {
   "display_name": "Python 3.8.8 ('base')",
   "language": "python",
   "name": "python3"
  },
  "language_info": {
   "codemirror_mode": {
    "name": "ipython",
    "version": 3
   },
   "file_extension": ".py",
   "mimetype": "text/x-python",
   "name": "python",
   "nbconvert_exporter": "python",
   "pygments_lexer": "ipython3",
   "version": "3.8.8"
  },
  "orig_nbformat": 4,
  "vscode": {
   "interpreter": {
    "hash": "500365e3ddecacbb8034c1e70bd0e99a22937a5061e34b7c238d5fc7e31c5f06"
   }
  }
 },
 "nbformat": 4,
 "nbformat_minor": 2
}
