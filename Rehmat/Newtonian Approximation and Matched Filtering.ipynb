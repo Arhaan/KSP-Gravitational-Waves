{
 "cells": [
  {
   "cell_type": "code",
   "execution_count": 628,
   "id": "88fd3b54",
   "metadata": {},
   "outputs": [],
   "source": [
    "import numpy as np\n",
    "import scipy as sp\n",
    "import pandas as pd\n",
    "from scipy.misc import derivative\n",
    "import matplotlib.pyplot as plt"
   ]
  },
  {
   "cell_type": "markdown",
   "id": "e76fb797",
   "metadata": {},
   "source": [
    "### Simulating waveform as per frequency model"
   ]
  },
  {
   "cell_type": "code",
   "execution_count": 629,
   "id": "d598bc2d",
   "metadata": {},
   "outputs": [],
   "source": [
    "pi = np.pi\n",
    "M = 30*1.99*10**30 # Chirp mass\n",
    "G = 6.67*10**(-11)\n",
    "c = 299792458\n",
    "D=10^11\n",
    "h0=1\n",
    "phi0 = 0\n",
    "tc0 = -4/2944 # Because at t=0 we get singularities"
   ]
  },
  {
   "cell_type": "code",
   "execution_count": 630,
   "id": "e8c62cab",
   "metadata": {},
   "outputs": [],
   "source": [
    "def frequency(t): # Valid for t<0\n",
    "    return np.power( abs(np.power(8*pi,8/3)/5*np.power(G*M/c**3, 5/3)*(-t)) , -3/8)"
   ]
  },
  {
   "cell_type": "code",
   "execution_count": 631,
   "id": "78e4bef2",
   "metadata": {},
   "outputs": [],
   "source": [
    "# Diverged from actual derivative close to 0, so replaced with the function in the next cell\n",
    "def derivativeFrequency2(t):\n",
    "    return derivative(frequency, t, dx=0.001)"
   ]
  },
  {
   "cell_type": "code",
   "execution_count": 632,
   "id": "d1347953",
   "metadata": {},
   "outputs": [],
   "source": [
    "def derivativeFrequency(t): # Valid for t<0\n",
    "    return 3/8*np.power( np.power(8*pi,8/3)/5*np.power(G*M/c**3, 5/3) , -3/8)*np.power(abs(-t),-11/8)"
   ]
  },
  {
   "cell_type": "code",
   "execution_count": 633,
   "id": "60e503d0",
   "metadata": {},
   "outputs": [],
   "source": [
    "def phase(t):\n",
    "    return 2*pi*frequency(t)*t + pi*derivativeFrequency(t)*t**2 + phi0"
   ]
  },
  {
   "cell_type": "code",
   "execution_count": 634,
   "id": "831680c3",
   "metadata": {},
   "outputs": [],
   "source": [
    "def sineAmplitude(t):\n",
    "    return h0*4*G*M/c**2/D*np.power(G*pi*M/c**3*frequency(t), 2/3)"
   ]
  },
  {
   "cell_type": "code",
   "execution_count": 635,
   "id": "c86f9c7f",
   "metadata": {},
   "outputs": [],
   "source": [
    "def sineWave(t): \n",
    "    return np.cos(phase(t))"
   ]
  },
  {
   "cell_type": "code",
   "execution_count": 673,
   "id": "973bcc38",
   "metadata": {},
   "outputs": [],
   "source": [
    "def sineGaussianWave(t):\n",
    "    return np.exp(-20000*t**2)*np.cos((2*pi*frequency(tc0))*t)"
   ]
  },
  {
   "cell_type": "code",
   "execution_count": 674,
   "id": "b02673e7",
   "metadata": {},
   "outputs": [],
   "source": [
    "def waveform2(t):\n",
    "    if t <= tc0:\n",
    "        return sineAmplitude(t)*sineWave(t)\n",
    "    else:\n",
    "        return 0"
   ]
  },
  {
   "cell_type": "code",
   "execution_count": 675,
   "id": "4fbe9b2a",
   "metadata": {},
   "outputs": [],
   "source": [
    "def waveform(t):\n",
    "    if t <= tc0:\n",
    "        return sineAmplitude(t)*sineWave(t)\n",
    "    else:\n",
    "        return sineAmplitude(tc0)*sineWave(tc0)*sineGaussianWave(t-tc0)"
   ]
  },
  {
   "cell_type": "code",
   "execution_count": 676,
   "id": "54202685",
   "metadata": {},
   "outputs": [],
   "source": [
    "def plotTimeInterval(x,T):\n",
    "    plt.plot(np.linspace(0,T,len(x)), x)"
   ]
  },
  {
   "cell_type": "code",
   "execution_count": 677,
   "id": "e0114ad7",
   "metadata": {
    "scrolled": false
   },
   "outputs": [
    {
     "data": {
      "text/plain": [
       "[<matplotlib.lines.Line2D at 0x7fa412282160>]"
      ]
     },
     "execution_count": 677,
     "metadata": {},
     "output_type": "execute_result"
    },
    {
     "data": {
      "image/png": "[encoded data removed]",
      "text/plain": [
       "<Figure size 432x288 with 1 Axes>"
      ]
     },
     "metadata": {
      "needs_background": "light"
     },
     "output_type": "display_data"
    }
   ],
   "source": [
    "timeSeriesTest = np.arange(-1,1,2/2944)\n",
    "simWaveTest = np.array([waveform(t) for t in timeSeriesTest])\n",
    "plt.plot(timeSeriesTest,simWaveTest)"
   ]
  },
  {
   "cell_type": "markdown",
   "id": "4e356c8c",
   "metadata": {},
   "source": [
    "### Working with measured data"
   ]
  },
  {
   "cell_type": "code",
   "execution_count": 641,
   "id": "dad52ef5",
   "metadata": {},
   "outputs": [],
   "source": [
    "with open(\"GW150914 (filtered data).txt\", \"r\") as f:\n",
    "    data = f.read()\n",
    "measWave = np.array([float(x) for x in data.rstrip().split(\"\\n\")])"
   ]
  },
  {
   "cell_type": "code",
   "execution_count": 642,
   "id": "5b65ba2a",
   "metadata": {},
   "outputs": [
    {
     "data": {
      "text/plain": [
       "array([2.17393078e-22, 2.03306760e-22, 1.94185335e-22, ...,\n",
       "       1.74406401e-22, 2.09175993e-22, 2.40556341e-22])"
      ]
     },
     "execution_count": 642,
     "metadata": {},
     "output_type": "execute_result"
    }
   ],
   "source": [
    "measWave"
   ]
  },
  {
   "cell_type": "code",
   "execution_count": 643,
   "id": "7d696002",
   "metadata": {},
   "outputs": [
    {
     "data": {
      "text/plain": [
       "2944"
      ]
     },
     "execution_count": 643,
     "metadata": {},
     "output_type": "execute_result"
    }
   ],
   "source": [
    "nPerSec = int(len(measWave)/64) # 64 second long measurement, so 2944 datapoints per second\n",
    "nPerSec"
   ]
  },
  {
   "cell_type": "code",
   "execution_count": 644,
   "id": "36c472b5",
   "metadata": {},
   "outputs": [
    {
     "data": {
      "text/plain": [
       "95910"
      ]
     },
     "execution_count": 644,
     "metadata": {},
     "output_type": "execute_result"
    }
   ],
   "source": [
    "tcGuess = 94208+1177+500+20+5 # This is the exact datapoint at which coalescence seems to happen\n",
    "tcGuess"
   ]
  },
  {
   "cell_type": "code",
   "execution_count": 645,
   "id": "358b8cdd",
   "metadata": {},
   "outputs": [
    {
     "data": {
      "text/plain": [
       "array([0.00000000e+00, 3.39673913e-04, 6.79347826e-04, ...,\n",
       "       6.39989810e+01, 6.39993207e+01, 6.39996603e+01])"
      ]
     },
     "execution_count": 645,
     "metadata": {},
     "output_type": "execute_result"
    }
   ],
   "source": [
    "pointSeries=np.arange(64*nPerSec)\n",
    "timeSeries = pointSeries/nPerSec\n",
    "timeSeries"
   ]
  },
  {
   "cell_type": "code",
   "execution_count": 656,
   "id": "c1708810",
   "metadata": {},
   "outputs": [
    {
     "data": {
      "text/plain": [
       "[<matplotlib.lines.Line2D at 0x7fa41127a9a0>]"
      ]
     },
     "execution_count": 656,
     "metadata": {},
     "output_type": "execute_result"
    },
    {
     "data": {
      "image/png": "[encoded data removed]",
      "text/plain": [
       "<Figure size 432x288 with 1 Axes>"
      ]
     },
     "metadata": {
      "needs_background": "light"
     },
     "output_type": "display_data"
    }
   ],
   "source": [
    "plt.plot(timeSeries, measWave)"
   ]
  },
  {
   "cell_type": "code",
   "execution_count": 646,
   "id": "3f5c45c1",
   "metadata": {},
   "outputs": [],
   "source": [
    "def corrWithMeasWave(simulatedWave):\n",
    "    return pd.Series(measWave).corr(pd.Series(simulatedWave))"
   ]
  },
  {
   "cell_type": "code",
   "execution_count": 647,
   "id": "6fffc5a8",
   "metadata": {},
   "outputs": [],
   "source": [
    "def correlation(tc):\n",
    "    simWave = np.array([waveform(t-tc) for t in timeSeries])\n",
    "    return corrWithMeasWave(simWave)"
   ]
  },
  {
   "cell_type": "code",
   "execution_count": 678,
   "id": "043626e2",
   "metadata": {
    "scrolled": true
   },
   "outputs": [],
   "source": [
    "# timeSeries2 = np.linspace(0,63,64)\n",
    "timeSeries2 = np.arange(0,64,(1/32))\n",
    "corrLength = len(timeSeries2)\n",
    "pointsStep = int(64*nPerSec/corrLength)\n",
    "correlationPlot = np.empty(corrLength)\n",
    "correlationPlot2 = np.empty(corrLength)\n",
    "# print(timeSeries2, corrLength, pointsStep)"
   ]
  },
  {
   "cell_type": "code",
   "execution_count": 695,
   "id": "1931a95d",
   "metadata": {},
   "outputs": [],
   "source": [
    "# %%timeit\n",
    "for n in range(corrLength):\n",
    "    if n==0:\n",
    "#         simWave = np.array([waveform(t) for t in timeSeries])\n",
    "#         simWave2 = np.full(len(timeSeries),0)\n",
    "        splitPoint = 8*nPerSec\n",
    "        simWave = np.array([waveform(t) for t in timeSeries[0:splitPoint]]+\n",
    "                           [waveform(t-64) for t in timeSeries[splitPoint:64*nPerSec]])\n",
    "        simWave2 = np.array([waveform2(t-64) for t in timeSeries])\n",
    "        correlationPlot[n] = corrWithMeasWave(simWave)\n",
    "        correlationPlot2[n] = corrWithMeasWave(simWave2)\n",
    "    else:\n",
    "        insertInSimWave = []\n",
    "        for i in range(pointsStep):\n",
    "            insertInSimWave.append(waveform(timeSeries[i] - timeSeries2[n]))\n",
    "        \n",
    "        simWave = np.delete(np.insert(simWave,np.full(pointsStep,0),\n",
    "                                      insertInSimWave),\n",
    "                            np.arange(-pointsStep,0))\n",
    "        correlationPlot[n] = corrWithMeasWave(simWave)\n",
    "        \n",
    "        insertInSimWave2 = []\n",
    "        for i in range(pointsStep):\n",
    "            insertInSimWave2.append(waveform2(timeSeries[i] - timeSeries2[n]))\n",
    "        \n",
    "        simWave2 = np.delete(np.insert(simWave2,np.full(pointsStep,0),\n",
    "                                      insertInSimWave2),\n",
    "                            np.arange(-pointsStep,0))\n",
    "        correlationPlot2[n] = corrWithMeasWave(simWave2)"
   ]
  },
  {
   "cell_type": "code",
   "execution_count": 696,
   "id": "84ce0a7c",
   "metadata": {
    "scrolled": true
   },
   "outputs": [
    {
     "data": {
      "text/plain": [
       "Text(0.5, 1.0, 'With Gaussian')"
      ]
     },
     "execution_count": 696,
     "metadata": {},
     "output_type": "execute_result"
    },
    {
     "data": {
      "image/png": "[encoded data removed]",
      "text/plain": [
       "<Figure size 432x288 with 1 Axes>"
      ]
     },
     "metadata": {
      "needs_background": "light"
     },
     "output_type": "display_data"
    }
   ],
   "source": [
    "plt.plot(timeSeries2, correlationPlot)\n",
    "plt.title(\"With Gaussian\")"
   ]
  },
  {
   "cell_type": "code",
   "execution_count": 697,
   "id": "6aa31c6a",
   "metadata": {},
   "outputs": [
    {
     "data": {
      "text/plain": [
       "Text(0.5, 1.0, 'Without Gaussian')"
      ]
     },
     "execution_count": 697,
     "metadata": {},
     "output_type": "execute_result"
    },
    {
     "data": {
      "image/png": "[encoded data removed]",
      "text/plain": [
       "<Figure size 432x288 with 1 Axes>"
      ]
     },
     "metadata": {
      "needs_background": "light"
     },
     "output_type": "display_data"
    }
   ],
   "source": [
    "plt.plot(timeSeries2, correlationPlot2)\n",
    "plt.title(\"Without Gaussian\")"
   ]
  },
  {
   "cell_type": "code",
   "execution_count": 699,
   "id": "4c68a9e4",
   "metadata": {},
   "outputs": [
    {
     "data": {
      "text/plain": [
       "0.99755859375"
      ]
     },
     "execution_count": 699,
     "metadata": {},
     "output_type": "execute_result"
    }
   ],
   "source": [
    "count = 0\n",
    "for i in range(len(timeSeries2)):\n",
    "    if abs(correlationPlot[i]-correlationPlot2[i])<0.0001: count+=1\n",
    "count/len(timeSeries2)"
   ]
  },
  {
   "cell_type": "code",
   "execution_count": 653,
   "id": "bb507819",
   "metadata": {},
   "outputs": [
    {
     "data": {
      "text/plain": [
       "214.25417190441732"
      ]
     },
     "execution_count": 653,
     "metadata": {},
     "output_type": "execute_result"
    }
   ],
   "source": [
    "(frequency(-4/2944))"
   ]
  },
  {
   "cell_type": "code",
   "execution_count": null,
   "id": "633cdbc6",
   "metadata": {},
   "outputs": [],
   "source": []
  }
 ],
 "metadata": {
  "celltoolbar": "Raw Cell Format",
  "kernelspec": {
   "display_name": "Python 3",
   "language": "python",
   "name": "python3"
  }
 },
 "nbformat": 4,
 "nbformat_minor": 5
}
